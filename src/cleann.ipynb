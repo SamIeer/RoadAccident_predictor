{
 "cells": [],
 "metadata": {
  "kernelspec": {
   "display_name": "Python (traffic)",
   "language": "python",
   "name": "traffic"
  },
  "language_info": {
   "name": "python",
   "version": "3.13.2"
  }
 },
 "nbformat": 4,
 "nbformat_minor": 5
}
